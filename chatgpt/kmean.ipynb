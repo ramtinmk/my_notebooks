{
 "cells": [
  {
   "cell_type": "code",
   "execution_count": 2,
   "metadata": {},
   "outputs": [],
   "source": [
    "import numpy as np\n",
    "\n",
    "def kmeans(data, k, max_iterations=100, tolerance=1e-3):\n",
    "    # Initialize the centroids randomly\n",
    "    centroids = data[np.random.choice(data.shape[0], k, replace=False)]\n",
    "    \n",
    "    for i in range(max_iterations):\n",
    "        # Assign each point to the nearest centroid\n",
    "        assignments = np.array([np.argmin([np.linalg.norm(point - centroid) for centroid in centroids]) for point in data])\n",
    "        \n",
    "        # Calculate the new centroids as the mean of the points assigned to each centroid\n",
    "        new_centroids = np.array([data[assignments == centroid_idx].mean(axis=0) for centroid_idx in range(k)])\n",
    "        \n",
    "        # Check if the centroids have changed significantly\n",
    "        if np.max(np.abs(centroids - new_centroids)) < tolerance:\n",
    "            break\n",
    "            \n",
    "        centroids = new_centroids\n",
    "    \n",
    "    return centroids, assignments\n"
   ]
  },
  {
   "cell_type": "code",
   "execution_count": 16,
   "metadata": {},
   "outputs": [
    {
     "data": {
      "text/plain": [
       "array([0, 2, 1, 0, 0, 1, 1, 1, 1, 0, 1, 2, 0, 0, 2, 1, 2, 1, 2, 0, 1, 0,\n",
       "       2, 0, 1, 1, 1, 2, 0, 1, 1, 2, 2, 2, 0, 0, 0, 2, 1, 2, 1, 0, 1, 1,\n",
       "       0, 2, 0, 1, 0, 0, 0, 2, 1, 0, 2, 0, 2, 1, 2, 2, 2, 2, 1, 0, 2, 1,\n",
       "       1, 1, 2, 2, 0, 1, 1, 1, 2, 2, 0, 0, 0, 0, 1, 2, 0, 0, 2, 1, 0, 2,\n",
       "       1, 1, 0, 0, 2, 2, 1, 0, 0, 1, 2, 0], dtype=int64)"
      ]
     },
     "execution_count": 16,
     "metadata": {},
     "output_type": "execute_result"
    }
   ],
   "source": [
    "x = np.random.uniform(-100,100,(100,2))\n",
    "centroids,assignments = kmeans(x,3)\n",
    "assignments"
   ]
  },
  {
   "cell_type": "code",
   "execution_count": 17,
   "metadata": {},
   "outputs": [
    {
     "data": {
      "text/plain": [
       "<matplotlib.collections.PathCollection at 0x1f35c012110>"
      ]
     },
     "execution_count": 17,
     "metadata": {},
     "output_type": "execute_result"
    },
    {
     "data": {
      "image/png": "[encoded data removed]",
      "text/plain": [
       "<Figure size 432x288 with 1 Axes>"
      ]
     },
     "metadata": {
      "needs_background": "light"
     },
     "output_type": "display_data"
    }
   ],
   "source": [
    "import matplotlib.pyplot as plt\n",
    "l = [\"r\",\"b\",\"black\"]\n",
    "\n",
    "    \n",
    "plt.scatter(centroids[:,0],centroids[:,1],marker=\"X\")"
   ]
  }
 ],
 "metadata": {
  "kernelspec": {
   "display_name": "Python 3",
   "language": "python",
   "name": "python3"
  },
  "language_info": {
   "codemirror_mode": {
    "name": "ipython",
    "version": 3
   },
   "file_extension": ".py",
   "mimetype": "text/x-python",
   "name": "python",
   "nbconvert_exporter": "python",
   "pygments_lexer": "ipython3",
   "version": "3.10.4 (tags/v3.10.4:9d38120, Mar 23 2022, 23:13:41) [MSC v.1929 64 bit (AMD64)]"
  },
  "orig_nbformat": 4,
  "vscode": {
   "interpreter": {
    "hash": "a9cff5a362bc38ef45d817ae74b1af54d6a076e3d773891282bce078b815ba34"
   }
  }
 },
 "nbformat": 4,
 "nbformat_minor": 2
}
