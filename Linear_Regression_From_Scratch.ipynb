{
 "cells": [
  {
   "cell_type": "code",
   "execution_count": 1122,
   "metadata": {},
   "outputs": [],
   "source": [
    "import numpy as np\n",
    "import matplotlib.pyplot as plt\n",
    "class LinearRegression():\n",
    "  def __init__(self,lr=1e-6,num_epochs=100000):\n",
    "    self.lr = lr\n",
    "    self.num_epochs = num_epochs\n",
    "    self.weights = None\n",
    "    self.bias = None\n",
    "    self.costs = []\n",
    "  def fit(self,X,y):\n",
    "        \n",
    "    m,n = X.shape\n",
    "    \n",
    "    #initialize weights\n",
    "    self.weights = np.zeros((n,1))\n",
    "    self.bias = 0\n",
    "\n",
    "\n",
    "    #starting gradient descent\n",
    "    for _ in range(self.num_epochs):\n",
    "      #compute predicted y\n",
    "      hypothesis = np.dot(X,self.weights) + self.bias\n",
    "      \n",
    "      y = y.reshape(m,1)\n",
    "      \n",
    "      #computing loss\n",
    "      loss = hypothesis - y\n",
    "      \n",
    "      #compute cost function for all of training data\n",
    "      general_cost_function = np.sum(loss**2)/2*m\n",
    "      self.costs.append(general_cost_function)\n",
    "      \n",
    "      #updating weights\n",
    "      dw = np.dot((X.T),loss)/m\n",
    "      db = np.sum(loss)/m\n",
    "      \n",
    "      \n",
    "      #updating weights of model\n",
    "      self.weights -= self.lr * dw\n",
    "      self.bias -= self.lr * db\n",
    "  def predict(self,X):\n",
    "      return X.dot(self.weights) + self.bias\n",
    "    \n",
    "  def plot_cost(self):\n",
    "      plt.plot(self.costs) \n",
    "       \n",
    "  def get_model_params(self):\n",
    "    return self.weights,self.bias "
   ]
  },
  {
   "cell_type": "code",
   "execution_count": null,
   "metadata": {},
   "outputs": [],
   "source": []
  },
  {
   "cell_type": "code",
   "execution_count": 1123,
   "metadata": {},
   "outputs": [],
   "source": [
    "from sklearn.datasets import load_boston\n",
    "from sklearn.model_selection import train_test_split\n",
    "from sklearn.metrics import mean_squared_error"
   ]
  },
  {
   "cell_type": "code",
   "execution_count": 1124,
   "metadata": {},
   "outputs": [
    {
     "name": "stderr",
     "output_type": "stream",
     "text": [
      "c:\\Users\\HP\\AppData\\Local\\Programs\\Python\\Python310\\lib\\site-packages\\sklearn\\utils\\deprecation.py:87: FutureWarning: Function load_boston is deprecated; `load_boston` is deprecated in 1.0 and will be removed in 1.2.\n",
      "\n",
      "    The Boston housing prices dataset has an ethical problem. You can refer to\n",
      "    the documentation of this function for further details.\n",
      "\n",
      "    The scikit-learn maintainers therefore strongly discourage the use of this\n",
      "    dataset unless the purpose of the code is to study and educate about\n",
      "    ethical issues in data science and machine learning.\n",
      "\n",
      "    In this special case, you can fetch the dataset from the original\n",
      "    source::\n",
      "\n",
      "        import pandas as pd\n",
      "        import numpy as np\n",
      "\n",
      "        data_url = \"http://lib.stat.cmu.edu/datasets/boston\"\n",
      "        raw_df = pd.read_csv(data_url, sep=\"\\s+\", skiprows=22, header=None)\n",
      "        data = np.hstack([raw_df.values[::2, :], raw_df.values[1::2, :2]])\n",
      "        target = raw_df.values[1::2, 2]\n",
      "\n",
      "    Alternative datasets include the California housing dataset (i.e.\n",
      "    :func:`~sklearn.datasets.fetch_california_housing`) and the Ames housing\n",
      "    dataset. You can load the datasets as follows::\n",
      "\n",
      "        from sklearn.datasets import fetch_california_housing\n",
      "        housing = fetch_california_housing()\n",
      "\n",
      "    for the California housing dataset and::\n",
      "\n",
      "        from sklearn.datasets import fetch_openml\n",
      "        housing = fetch_openml(name=\"house_prices\", as_frame=True)\n",
      "\n",
      "    for the Ames housing dataset.\n",
      "  warnings.warn(msg, category=FutureWarning)\n"
     ]
    }
   ],
   "source": [
    "X,y = load_boston(return_X_y=True)"
   ]
  },
  {
   "cell_type": "code",
   "execution_count": null,
   "metadata": {},
   "outputs": [],
   "source": []
  },
  {
   "cell_type": "code",
   "execution_count": 1125,
   "metadata": {},
   "outputs": [],
   "source": [
    "X_train,X_test,y_train,y_test = train_test_split(X,y,test_size=0.2,random_state=0)"
   ]
  },
  {
   "cell_type": "code",
   "execution_count": 1126,
   "metadata": {},
   "outputs": [
    {
     "data": {
      "text/plain": [
       "(404,)"
      ]
     },
     "execution_count": 1126,
     "metadata": {},
     "output_type": "execute_result"
    }
   ],
   "source": [
    "y_train.shape"
   ]
  },
  {
   "cell_type": "code",
   "execution_count": 1127,
   "metadata": {},
   "outputs": [],
   "source": [
    "l = LinearRegression()\n",
    "l.fit(X_train,y_train)"
   ]
  },
  {
   "cell_type": "code",
   "execution_count": 1128,
   "metadata": {},
   "outputs": [
    {
     "data": {
      "text/plain": [
       "56.66063655207546"
      ]
     },
     "execution_count": 1128,
     "metadata": {},
     "output_type": "execute_result"
    }
   ],
   "source": [
    "mean_squared_error(l.predict(X_test),y_test)"
   ]
  },
  {
   "cell_type": "code",
   "execution_count": 1129,
   "metadata": {},
   "outputs": [
    {
     "data": {
      "text/plain": [
       "array([[19.43867655],\n",
       "       [26.71214234],\n",
       "       [25.31913601],\n",
       "       [17.90723278],\n",
       "       [20.25167971],\n",
       "       [24.21280191],\n",
       "       [21.19025263],\n",
       "       [24.05663014],\n",
       "       [15.84538477],\n",
       "       [15.16254011],\n",
       "       [-1.56266634],\n",
       "       [ 6.84069737],\n",
       "       [19.50359782],\n",
       "       [12.29183173],\n",
       "       [31.24060988],\n",
       "       [28.95390552],\n",
       "       [23.3782524 ],\n",
       "       [33.70160171],\n",
       "       [22.90547567],\n",
       "       [22.01747872],\n",
       "       [24.65388949],\n",
       "       [21.75543291],\n",
       "       [23.70669206],\n",
       "       [26.76710762],\n",
       "       [19.42955516],\n",
       "       [14.16289695],\n",
       "       [24.32607845],\n",
       "       [16.24634766],\n",
       "       [30.08266608],\n",
       "       [22.19908035],\n",
       "       [20.93285441],\n",
       "       [22.76787852],\n",
       "       [28.05506823],\n",
       "       [25.64298114],\n",
       "       [26.43795791],\n",
       "       [22.00832562],\n",
       "       [13.93038025],\n",
       "       [25.27377008],\n",
       "       [ 9.91619754],\n",
       "       [14.7086521 ],\n",
       "       [17.83482642],\n",
       "       [16.75396567],\n",
       "       [19.71016266],\n",
       "       [19.65886755],\n",
       "       [23.88552595],\n",
       "       [25.76279312],\n",
       "       [17.4076559 ],\n",
       "       [18.82139117],\n",
       "       [11.21791108],\n",
       "       [26.83298978],\n",
       "       [ 8.91399019],\n",
       "       [14.11680167],\n",
       "       [22.13368461],\n",
       "       [26.03154231],\n",
       "       [17.21494077],\n",
       "       [17.08988041],\n",
       "       [21.51256417],\n",
       "       [19.76177929],\n",
       "       [ 7.89155411],\n",
       "       [21.44072951],\n",
       "       [28.02296279],\n",
       "       [20.78254772],\n",
       "       [25.80480032],\n",
       "       [22.37276141],\n",
       "       [18.46646783],\n",
       "       [28.21518968],\n",
       "       [21.34303827],\n",
       "       [20.704612  ],\n",
       "       [12.90461847],\n",
       "       [17.66361694],\n",
       "       [22.47536794],\n",
       "       [21.42701623],\n",
       "       [31.83814457],\n",
       "       [30.42659889],\n",
       "       [26.74883267],\n",
       "       [ 8.96735409],\n",
       "       [28.84887033],\n",
       "       [21.29590953],\n",
       "       [24.6509657 ],\n",
       "       [21.57000956],\n",
       "       [26.25019179],\n",
       "       [24.06952709],\n",
       "       [23.09245647],\n",
       "       [29.84073949],\n",
       "       [30.16488405],\n",
       "       [22.58026121],\n",
       "       [23.33176886],\n",
       "       [ 5.32746769],\n",
       "       [26.20611582],\n",
       "       [19.30801742],\n",
       "       [29.29483925],\n",
       "       [ 7.82317332],\n",
       "       [31.98067452],\n",
       "       [33.02280369],\n",
       "       [27.03904454],\n",
       "       [23.94323459],\n",
       "       [ 6.21941577],\n",
       "       [34.48403674],\n",
       "       [ 9.09631373],\n",
       "       [25.49250475],\n",
       "       [19.70974701],\n",
       "       [26.7920124 ]])"
      ]
     },
     "execution_count": 1129,
     "metadata": {},
     "output_type": "execute_result"
    }
   ],
   "source": [
    "l.predict(X_test)"
   ]
  },
  {
   "cell_type": "code",
   "execution_count": 1130,
   "metadata": {},
   "outputs": [
    {
     "data": {
      "text/plain": [
       "(array([[-0.13125891],\n",
       "        [ 0.12663108],\n",
       "        [-0.0999133 ],\n",
       "        [ 0.03044887],\n",
       "        [ 0.02079027],\n",
       "        [ 0.52174849],\n",
       "        [ 0.11721121],\n",
       "        [ 0.04013683],\n",
       "        [ 0.04462856],\n",
       "        [ 0.00155629],\n",
       "        [ 0.30789614],\n",
       "        [ 0.03492526],\n",
       "        [-0.6774168 ]]),\n",
       " 0.04886118763707201)"
      ]
     },
     "execution_count": 1130,
     "metadata": {},
     "output_type": "execute_result"
    }
   ],
   "source": [
    "l.get_model_params()"
   ]
  },
  {
   "cell_type": "code",
   "execution_count": 1134,
   "metadata": {},
   "outputs": [
    {
     "data": {
      "image/png": "[encoded data removed]",
      "text/plain": [
       "<Figure size 432x288 with 1 Axes>"
      ]
     },
     "metadata": {
      "needs_background": "light"
     },
     "output_type": "display_data"
    }
   ],
   "source": [
    "#plotting cost function for each epoch\n",
    "l.plot_cost()"
   ]
  }
 ],
 "metadata": {
  "kernelspec": {
   "display_name": "Python 3.10.4 64-bit",
   "language": "python",
   "name": "python3"
  },
  "language_info": {
   "codemirror_mode": {
    "name": "ipython",
    "version": 3
   },
   "file_extension": ".py",
   "mimetype": "text/x-python",
   "name": "python",
   "nbconvert_exporter": "python",
   "pygments_lexer": "ipython3",
   "version": "3.10.4"
  },
  "orig_nbformat": 4,
  "vscode": {
   "interpreter": {
    "hash": "a9cff5a362bc38ef45d817ae74b1af54d6a076e3d773891282bce078b815ba34"
   }
  }
 },
 "nbformat": 4,
 "nbformat_minor": 2
}
