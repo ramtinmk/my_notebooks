{
 "cells": [
  {
   "cell_type": "code",
   "execution_count": 86,
   "metadata": {},
   "outputs": [],
   "source": [
    "import math\n",
    "import numpy as np\n",
    "import matplotlib.pyplot as plt\n",
    "def dist(first,second):\n",
    "    return np.linalg.norm(first-second)\n",
    "def is_in_red(red,x,y):\n",
    "    for p in red:\n",
    "        if x==p[0] and y==p[1]:\n",
    "            return True\n",
    "    return False"
   ]
  },
  {
   "cell_type": "code",
   "execution_count": 96,
   "metadata": {},
   "outputs": [
    {
     "name": "stdout",
     "output_type": "stream",
     "text": [
      "[5 2]\n"
     ]
    },
    {
     "data": {
      "image/png": "[encoded data removed]",
      "text/plain": [
       "<Figure size 432x288 with 1 Axes>"
      ]
     },
     "metadata": {
      "needs_background": "light"
     },
     "output_type": "display_data"
    }
   ],
   "source": [
    "import numpy as np\n",
    "import matplotlib.pyplot as plt\n",
    "\n",
    "\n",
    "\n",
    "\n",
    "pointarr = [(0,0)]\n",
    "x = 0 \n",
    "y = 0\n",
    "redx = np.random.randint(0,11,10)\n",
    "redy = np.random.randint(0,11,10)\n",
    "\n",
    "red = []\n",
    "for i in range(len(redx)):\n",
    "    while (redx[i] == 0 and redy[i]==0):\n",
    "        redx[i] = np.random.randint(0,11)\n",
    "        redy[i] = np.random.randint(0,11)\n",
    "\n",
    "for i,j in zip(redx,redy):\n",
    "    red.append((i,j))\n",
    "\n",
    "dest = np.random.randint(0,11,2)\n",
    "while is_in_red(red,dest[0],dest[1]) or (dest[0]==0 and dest[1]==0):\n",
    "    dest = np.random.randint(0,11,2)\n",
    "\n",
    "\n",
    "while (x!=dest[0] or y!=dest[1]) :\n",
    "    min = 1000\n",
    "    if dist(np.array([x+1,y]),dest)< min and is_in_red(red,x+1,y)==False:\n",
    "        min = dist(np.array([x+1,y]),dest)\n",
    "    if dist(np.array([x,y+1]),dest)< min and is_in_red(red,x,y+1)==False:\n",
    "        min = dist(np.array([x,y+1]),dest)\n",
    "    if dist(np.array([x+1,y+1]),dest)< min and is_in_red(red,x+1,y+1)==False:\n",
    "        min = dist(np.array([x+1,y+1]),dest)\n",
    "\n",
    "    if dist(np.array([x-1,y]),dest)< min and is_in_red(red,x-1,y)==False:\n",
    "        min = dist(np.array([x-1,y]),dest)\n",
    "\n",
    "    if dist(np.array([x,y-1]),dest)< min and is_in_red(red,x,y-1)==False:\n",
    "        min = dist(np.array([x,y-1]),dest)\n",
    "\n",
    "    if dist(np.array([x-1,y-1]),dest)< min and is_in_red(red,x-1,y-1)==False:\n",
    "        min = dist(np.array([x-1,y-1]),dest)\n",
    "\n",
    "    if dist(np.array([x+1,y-1]),dest)< min and is_in_red(red,x+1,y-1)==False:\n",
    "        min = dist(np.array([x+1,y-1]),dest)\n",
    "\n",
    "    if dist(np.array([x-1,y+1]),dest)< min and is_in_red(red,x-1,y+1)==False:\n",
    "        min = dist(np.array([x-1,y+1]),dest)\n",
    "\n",
    "\n",
    "    if min == dist(np.array([x+1,y+1]),dest):\n",
    "        pointarr.append((x+1,y+1))\n",
    "        x +=1\n",
    "        y+=1\n",
    "    elif min == dist(np.array([x+1,y]),dest):\n",
    "        pointarr.append((x+1,y))\n",
    "        x +=1\n",
    "    elif min == dist(np.array([x,y+1]),dest):\n",
    "        pointarr.append((x,y+1))\n",
    "        y+=1\n",
    "\n",
    "    elif min == dist(np.array([x-1,y]),dest):\n",
    "        pointarr.append((x-1,y))\n",
    "        x -=1\n",
    "    elif min == dist(np.array([x,y-1]),dest):\n",
    "        pointarr.append((x,y-1))\n",
    "        y-=1\n",
    "\n",
    "    elif min == dist(np.array([x-1,y-1]),dest):\n",
    "        pointarr.append((x-1,y-1))\n",
    "        x -=1\n",
    "        y-=1\n",
    "    elif min == dist(np.array([x-1,y+1]),dest):\n",
    "        pointarr.append((x-1,y+1))\n",
    "        y+=1\n",
    "        x-=1\n",
    "    elif min == dist(np.array([x+1,y-1]),dest):\n",
    "        pointarr.append((x+1,y-1))\n",
    "        y-=1\n",
    "        x+=1\n",
    "    \n",
    "\n",
    "    if y ==dest[1] and (x-dest[0]==2):\n",
    "        pointarr.append((x+1,y))\n",
    "        x+=1\n",
    "    if x ==dest[0] and (y-dest[1]==2):\n",
    "        pointarr.append((x,y+1))\n",
    "        y+=1\n",
    "    if dist(np.array([x,y]),dest)<=(math.sqrt(2)):\n",
    "        pointarr.append((x,y))\n",
    "        break\n",
    "\n",
    "    \n",
    "pointarr[-1] = (dest[0],dest[1])\n",
    "    \n",
    "x = [i[0] for i in pointarr]\n",
    "y = [i[1] for i in pointarr]\n",
    "\n",
    "greenx = np.linspace(0,10,11)\n",
    "for i in range(11):\n",
    "    plt.scatter(greenx,np.linspace(i,i,11),c='g',linewidths=7)\n",
    "\n",
    "\n",
    "\n",
    "\n",
    "plt.scatter(redx,redy,c='r',linewidths=7)\n",
    "plt.scatter(dest[0],dest[1],c='black',linewidths=7)\n",
    "plt.scatter(0,0,c='b',linewidths=7)\n",
    "plt.plot(x,y,c = 'black',linewidth=7)\n",
    "\n",
    "print(dest)"
   ]
  },
  {
   "cell_type": "code",
   "execution_count": 82,
   "metadata": {},
   "outputs": [
    {
     "data": {
      "text/plain": [
       "1.4142135623730951"
      ]
     },
     "execution_count": 82,
     "metadata": {},
     "output_type": "execute_result"
    }
   ],
   "source": [
    "a = [(0,0),(1,1)]\n",
    "\n",
    "is_in_red(a,-1,0)\n",
    "a = np.array([1,1])\n",
    "b = np.array([0,0])\n",
    "np.linalg.norm(a-b)"
   ]
  }
 ],
 "metadata": {
  "interpreter": {
   "hash": "4b0dbb57a15f88fd7f7ac7491b872936fe892965957e1be9140f86922c2a1be8"
  },
  "kernelspec": {
   "display_name": "Python 3.8.12 ('base')",
   "language": "python",
   "name": "python3"
  },
  "language_info": {
   "codemirror_mode": {
    "name": "ipython",
    "version": 3
   },
   "file_extension": ".py",
   "mimetype": "text/x-python",
   "name": "python",
   "nbconvert_exporter": "python",
   "pygments_lexer": "ipython3",
   "version": "3.8.12"
  },
  "orig_nbformat": 4
 },
 "nbformat": 4,
 "nbformat_minor": 2
}
