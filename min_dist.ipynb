{
 "cells": [
  {
   "cell_type": "code",
   "execution_count": 131,
   "metadata": {},
   "outputs": [],
   "source": [
    "import math\n",
    "import numpy as np\n",
    "import matplotlib.pyplot as plt\n",
    "\n",
    "def dist(first,second):\n",
    "    return np.linalg.norm(first-second)\n",
    "def is_in_red(red,x,y):\n",
    "    for p in red:\n",
    "        if x==p[0] and y==p[1]:\n",
    "            return True\n",
    "    return False\n",
    "\n",
    "def tuple_to_x_y(l):\n",
    "    x = []\n",
    "    y = []\n",
    "    for i in l:\n",
    "        x.append(i[0])\n",
    "        y.append(i[1])\n",
    "    return x,y\n",
    "\n",
    "def check_intersection(a,b):\n",
    "    for i in a:\n",
    "        if i in b:\n",
    "            return True\n",
    "    return False\n",
    "\n",
    "def after_intersection(a,b):\n",
    "    res = []\n",
    "    if check_intersection(a,b):\n",
    "        for i in a:\n",
    "            if i not in b:\n",
    "                res.append(i)\n",
    "            if i in b:\n",
    "                res.append(i)\n",
    "                break\n",
    "        for j in b:\n",
    "            if j not in a:\n",
    "                res.append(j)\n",
    "    \n",
    "    return res\n",
    "\n"
   ]
  },
  {
   "cell_type": "code",
   "execution_count": 143,
   "metadata": {},
   "outputs": [
    {
     "data": {
      "text/plain": [
       "[<matplotlib.lines.Line2D at 0x286c9074160>]"
      ]
     },
     "execution_count": 143,
     "metadata": {},
     "output_type": "execute_result"
    },
    {
     "data": {
      "image/png": "[encoded data removed]",
      "text/plain": [
       "<Figure size 432x288 with 1 Axes>"
      ]
     },
     "metadata": {
      "needs_background": "light"
     },
     "output_type": "display_data"
    }
   ],
   "source": [
    "import numpy as np\n",
    "import matplotlib.pyplot as plt\n",
    "\n",
    "\n",
    "\n",
    "\n",
    "pointarr = [(0,0)]\n",
    "x = 0 \n",
    "y = 0\n",
    "redx = np.random.randint(0,10,10)\n",
    "redy = np.random.randint(0,10,10)\n",
    "\n",
    "red = []\n",
    "for i in range(len(redx)):\n",
    "    while (redx[i] == 0 and redy[i]==0):\n",
    "        redx[i] = np.random.randint(0,10)\n",
    "        redy[i] = np.random.randint(0,10)\n",
    "\n",
    "for i,j in zip(redx,redy):\n",
    "    red.append((i,j))\n",
    "\n",
    "dest = np.random.randint(0,10,2)\n",
    "while is_in_red(red,dest[0],dest[1]) or (dest[0]==0 and dest[1]==0):\n",
    "    dest = np.random.randint(0,11,2)\n",
    "\n",
    "\n",
    "while (x!=dest[0] or y!=dest[1]) :\n",
    "    min = 1000\n",
    "    if dist(np.array([x+1,y]),dest)< min and is_in_red(red,x+1,y)==False:\n",
    "        min = dist(np.array([x+1,y]),dest)\n",
    "    if dist(np.array([x,y+1]),dest)< min and is_in_red(red,x,y+1)==False:\n",
    "        min = dist(np.array([x,y+1]),dest)\n",
    "    if dist(np.array([x+1,y+1]),dest)< min and is_in_red(red,x+1,y+1)==False:\n",
    "        min = dist(np.array([x+1,y+1]),dest)\n",
    "\n",
    "    if dist(np.array([x-1,y]),dest)< min and is_in_red(red,x-1,y)==False:\n",
    "        min = dist(np.array([x-1,y]),dest)\n",
    "\n",
    "    if dist(np.array([x,y-1]),dest)< min and is_in_red(red,x,y-1)==False:\n",
    "        min = dist(np.array([x,y-1]),dest)\n",
    "\n",
    "    if dist(np.array([x-1,y-1]),dest)< min and is_in_red(red,x-1,y-1)==False:\n",
    "        min = dist(np.array([x-1,y-1]),dest)\n",
    "\n",
    "    if dist(np.array([x+1,y-1]),dest)< min and is_in_red(red,x+1,y-1)==False:\n",
    "        min = dist(np.array([x+1,y-1]),dest)\n",
    "\n",
    "    if dist(np.array([x-1,y+1]),dest)< min and is_in_red(red,x-1,y+1)==False:\n",
    "        min = dist(np.array([x-1,y+1]),dest)\n",
    "\n",
    "\n",
    "    if min == dist(np.array([x+1,y+1]),dest):\n",
    "        pointarr.append((x+1,y+1))\n",
    "        x +=1\n",
    "        y+=1\n",
    "    elif min == dist(np.array([x+1,y]),dest):\n",
    "        pointarr.append((x+1,y))\n",
    "        x +=1\n",
    "    elif min == dist(np.array([x,y+1]),dest):\n",
    "        pointarr.append((x,y+1))\n",
    "        y+=1\n",
    "\n",
    "    elif min == dist(np.array([x-1,y]),dest):\n",
    "        pointarr.append((x-1,y))\n",
    "        x -=1\n",
    "    elif min == dist(np.array([x,y-1]),dest):\n",
    "        pointarr.append((x,y-1))\n",
    "        y-=1\n",
    "\n",
    "    elif min == dist(np.array([x-1,y-1]),dest):\n",
    "        pointarr.append((x-1,y-1))\n",
    "        x -=1\n",
    "        y-=1\n",
    "    elif min == dist(np.array([x-1,y+1]),dest):\n",
    "        pointarr.append((x-1,y+1))\n",
    "        y+=1\n",
    "        x-=1\n",
    "    elif min == dist(np.array([x+1,y-1]),dest):\n",
    "        pointarr.append((x+1,y-1))\n",
    "        y-=1\n",
    "        x+=1\n",
    "    \n",
    "\n",
    "    if y ==dest[1] and (x-dest[0]==2):\n",
    "        pointarr.append((x+1,y))\n",
    "        x+=1\n",
    "    if x ==dest[0] and (y-dest[1]==2):\n",
    "        pointarr.append((x,y+1))\n",
    "        y+=1\n",
    "    if dist(np.array([x,y]),dest)<=(math.sqrt(2)):\n",
    "        pointarr.append((x,y))\n",
    "        break\n",
    "\n",
    "    \n",
    "pointarr[-1] = (dest[0],dest[1])\n",
    "    \n",
    "x = [i[0] for i in pointarr]\n",
    "y = [i[1] for i in pointarr]\n",
    "\n",
    "greenx = np.linspace(0,9,10)\n",
    "for i in range(10):\n",
    "    plt.scatter(greenx,np.linspace(i,i,10),c='g',linewidths=7)\n",
    "\n",
    "\n",
    "\n",
    "\n",
    "plt.scatter(redx,redy,c='r',linewidths=7)\n",
    "plt.scatter(dest[0],dest[1],c='black',linewidths=7)\n",
    "plt.scatter(0,0,c='b',linewidths=7)\n",
    "plt.plot(x,y,c = 'black',linewidth=7)\n",
    "\n"
   ]
  },
  {
   "cell_type": "code",
   "execution_count": 133,
   "metadata": {},
   "outputs": [
    {
     "name": "stdout",
     "output_type": "stream",
     "text": [
      "[(0, 0), (0, 1)]\n",
      "[(0, 0), (1, 0)]\n",
      "[(0, 0), (1, 1), (2, 2), (3, 3), (4, 4), (5, 5), (6, 6), (7, 7), (8, 8), (9, 9)]\n"
     ]
    },
    {
     "data": {
      "text/plain": [
       "[<matplotlib.lines.Line2D at 0x286c8fefa00>]"
      ]
     },
     "execution_count": 133,
     "metadata": {},
     "output_type": "execute_result"
    },
    {
     "data": {
      "image/png": "[encoded data removed]",
      "text/plain": [
       "<Figure size 432x288 with 1 Axes>"
      ]
     },
     "metadata": {
      "needs_background": "light"
     },
     "output_type": "display_data"
    }
   ],
   "source": [
    "x_y_up = []\n",
    "x = 0\n",
    "y = 0\n",
    "while is_in_red(red,x,y)==False and (x<=9 and y<=9):\n",
    "    if x==dest[0] and y==dest[1]:\n",
    "        break\n",
    "    x_y_up.append((x,y))\n",
    "    x+=1\n",
    "    y+=1\n",
    "x_up = []\n",
    "x = 0\n",
    "y = 0\n",
    "while is_in_red(red,x,y)==False and (x<=9 and y<=9):\n",
    "    if x==dest[0] and y==dest[1]:\n",
    "        break\n",
    "    x_up.append((x,y))\n",
    "    x+=1\n",
    "x_up\n",
    "\n",
    "y_up = []\n",
    "x = 0\n",
    "y = 0\n",
    "while is_in_red(red,x,y)==False and (x<=9 and y<=9):\n",
    "    if x==dest[0] and y==dest[1]:\n",
    "        break\n",
    "    y_up.append((x,y))\n",
    "    y+=1\n",
    "\n",
    "\n",
    "print(y_up)\n",
    "print(x_up)\n",
    "print(x_y_up)\n",
    "\n",
    "greenx = np.linspace(0,9,10)\n",
    "for i in range(10):\n",
    "    plt.scatter(greenx,np.linspace(i,i,10),c='g',linewidths=7)\n",
    "\n",
    "plt.scatter(redx,redy,c='r',linewidths=7)\n",
    "plt.scatter(dest[0],dest[1],c='black',linewidths=7)\n",
    "plt.scatter(0,0,c='b',linewidths=7)\n",
    "\n",
    "plt.plot(tuple_to_x_y(x_up)[0],tuple_to_x_y(x_up)[1],c = 'black',linewidth=7)\n",
    "plt.plot(tuple_to_x_y(y_up)[0],tuple_to_x_y(y_up)[1],c = 'black',linewidth=7)\n",
    "plt.plot(tuple_to_x_y(x_y_up)[0],tuple_to_x_y(x_y_up)[1],c = 'black',linewidth=7)\n",
    "\n",
    "\n"
   ]
  },
  {
   "cell_type": "code",
   "execution_count": 134,
   "metadata": {},
   "outputs": [
    {
     "data": {
      "image/png": "[encoded data removed]",
      "text/plain": [
       "<Figure size 432x288 with 1 Axes>"
      ]
     },
     "metadata": {
      "needs_background": "light"
     },
     "output_type": "display_data"
    }
   ],
   "source": [
    "x_y_down = []\n",
    "x = dest[0]\n",
    "y = dest[1]\n",
    "while is_in_red(red,x,y)==False and (x>=0 and y>=0):\n",
    "    if x==0 and y==0:\n",
    "        break\n",
    "    x_y_down.append((x,y))\n",
    "    x-=1\n",
    "    y-=1\n",
    "x_down = []\n",
    "x = dest[0]\n",
    "y = dest[1]\n",
    "while is_in_red(red,x,y)==False and (x>=0 and y>=0):\n",
    "    if x==0 and y==0:\n",
    "        break\n",
    "    x_down.append((x,y))\n",
    "    x-=1\n",
    "x_down\n",
    "y_down = []\n",
    "x = dest[0]\n",
    "y = dest[1]\n",
    "while is_in_red(red,x,y)==False and (x>=0 and y>=0):\n",
    "    if x==0 and y==0:\n",
    "        break\n",
    "    y_down.append((x,y))\n",
    "    y-=1\n",
    "\n",
    "\n",
    "greenx = np.linspace(0,9,10)\n",
    "for i in range(10):\n",
    "    plt.scatter(greenx,np.linspace(i,i,10),c='g',linewidths=7)\n",
    "\n",
    "plt.scatter(redx,redy,c='r',linewidths=7)\n",
    "plt.scatter(dest[0],dest[1],c='black',linewidths=7)\n",
    "plt.scatter(0,0,c='b',linewidths=7)\n",
    "\n",
    "# plt.plot(tuple_to_x_y(x_up)[0],tuple_to_x_y(x_up)[1],c = 'black',linewidth=7)\n",
    "# plt.plot(tuple_to_x_y(y_up)[0],tuple_to_x_y(y_up)[1],c = 'black',linewidth=7)\n",
    "# plt.plot(tuple_to_x_y(x_y_up)[0],tuple_to_x_y(x_y_up)[1],c = 'black',linewidth=7)\n",
    "\n",
    "\n",
    "# plt.plot(tuple_to_x_y(x_down)[0],tuple_to_x_y(x_down)[1],c = 'black',linewidth=7)\n",
    "# plt.plot(tuple_to_x_y(y_down)[0],tuple_to_x_y(y_down)[1],c = 'black',linewidth=7)\n",
    "# plt.plot(tuple_to_x_y(x_y_down)[0],tuple_to_x_y(x_y_down)[1],c = 'black',linewidth=7)\n",
    "plt.plot(tuple_to_x_y(after_intersection(x_y_up,x_y_down))[0],tuple_to_x_y(after_intersection(x_y_up,x_y_down))[1],c = 'black',linewidth=7)\n",
    "if len(after_intersection(x_y_up,x_y_down))==0:\n",
    "    plt.plot(tuple_to_x_y(after_intersection(y_up,x_down))[0],tuple_to_x_y(after_intersection(y_up,x_down))[1],c = 'black',linewidth=7)\n",
    "if len(after_intersection(x_y_up,x_y_down))==0 and len(after_intersection(y_up,x_down))==0:\n",
    "    plt.plot(tuple_to_x_y(after_intersection(x_up,y_down))[0],tuple_to_x_y(after_intersection(x_up,y_down))[1],c = 'black',linewidth=7)\n",
    "\n",
    "if dest[0]==0:\n",
    "    x = 0\n",
    "    y = 0\n",
    "    xx = []\n",
    "    yy = []\n",
    "    while is_in_red(red,x,y)==False and (x<=9 and y<=9):\n",
    "        if y==dest[1]:\n",
    "            break\n",
    "        xx.append(x)\n",
    "        yy.append(y)\n",
    "        y+=1\n",
    "    xx.append(dest[0])\n",
    "    yy.append(dest[1])\n",
    "    plt.plot(xx,yy,c = 'black',linewidth=7)\n",
    "\n",
    "elif dest[1]==0:\n",
    "    x = 0\n",
    "    y = 0\n",
    "    xx = []\n",
    "    yy = []\n",
    "    while is_in_red(red,x,y)==False and (x<=9 and y<=9):\n",
    "        if y==dest[1]:\n",
    "            break\n",
    "        xx.append(x)\n",
    "        yy.append(y)\n",
    "        x+=1\n",
    "    xx.append(dest[0])\n",
    "    yy.append(dest[1])\n",
    "    plt.plot(xx,yy,c = 'black',linewidth=7)\n",
    "    \n"
   ]
  },
  {
   "cell_type": "code",
   "execution_count": 135,
   "metadata": {},
   "outputs": [
    {
     "data": {
      "text/plain": [
       "[<matplotlib.lines.Line2D at 0x286c907e8e0>]"
      ]
     },
     "execution_count": 135,
     "metadata": {},
     "output_type": "execute_result"
    },
    {
     "data": {
      "image/png": "[encoded data removed]",
      "text/plain": [
       "<Figure size 432x288 with 1 Axes>"
      ]
     },
     "metadata": {
      "needs_background": "light"
     },
     "output_type": "display_data"
    }
   ],
   "source": [
    "plt.plot([],[],c='black')"
   ]
  }
 ],
 "metadata": {
  "interpreter": {
   "hash": "4b0dbb57a15f88fd7f7ac7491b872936fe892965957e1be9140f86922c2a1be8"
  },
  "kernelspec": {
   "display_name": "Python 3.8.12 ('base')",
   "language": "python",
   "name": "python3"
  },
  "language_info": {
   "codemirror_mode": {
    "name": "ipython",
    "version": 3
   },
   "file_extension": ".py",
   "mimetype": "text/x-python",
   "name": "python",
   "nbconvert_exporter": "python",
   "pygments_lexer": "ipython3",
   "version": "3.8.12"
  },
  "orig_nbformat": 4
 },
 "nbformat": 4,
 "nbformat_minor": 2
}
