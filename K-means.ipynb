{
 "cells": [
  {
   "cell_type": "code",
   "execution_count": 2,
   "metadata": {},
   "outputs": [],
   "source": [
    "import numpy as np\n",
    "import pandas as pd\n",
    "import matplotlib.pyplot as plt\n",
    "import random\n",
    "\n"
   ]
  },
  {
   "cell_type": "code",
   "execution_count": 48,
   "metadata": {},
   "outputs": [
    {
     "data": {
      "text/plain": [
       "<matplotlib.collections.PathCollection at 0x23f432e7c40>"
      ]
     },
     "execution_count": 48,
     "metadata": {},
     "output_type": "execute_result"
    },
    {
     "data": {
      "image/png": "[encoded data removed]",
      "text/plain": [
       "<Figure size 432x288 with 1 Axes>"
      ]
     },
     "metadata": {
      "needs_background": "light"
     },
     "output_type": "display_data"
    }
   ],
   "source": [
    "\n",
    "\n",
    "\n",
    "x = np.random.uniform(-5,10,100)\n",
    "y = np.random.uniform(-5,10,100)\n",
    "\n",
    "\n",
    "p1 = (random.uniform(-5,10),random.uniform(-5,10))\n",
    "p2 = (random.uniform(-5,10),random.uniform(-5,10))\n",
    "min = 10000\n",
    "\n",
    "red = []\n",
    "\n",
    "redx = []\n",
    "redy = []\n",
    "blue = []\n",
    "bluex = []\n",
    "bluey = []\n",
    "\n",
    "def distance():\n",
    "    red.clear()\n",
    "    redx.clear()\n",
    "    redy.clear()\n",
    "    blue.clear()\n",
    "    bluey.clear()\n",
    "    bluex.clear()\n",
    "\n",
    "    for i,j in zip(x,y):\n",
    "        if (((i-p1[0])**2 + (j-p1[1])**2)) < ((i-p2[0])**2 + (j-p2[1])**2):\n",
    "            redx.append(i)\n",
    "            redy.append(j)\n",
    "            red.append((i,j))\n",
    "        else:\n",
    "            blue.append((i,j))\n",
    "            bluex.append(i)\n",
    "            bluey.append(j)\n",
    "\n",
    "\n",
    "for i in range(200):\n",
    "    distance()\n",
    "    \n",
    "    sumx = 0\n",
    "    sumy = 0\n",
    "    for i,j in red:\n",
    "        sumx += i\n",
    "        sumy+=j\n",
    "    #print(abs(sumx/len(red) - p1[0]),abs(sumy/len(red) - p1[1]))\n",
    "\n",
    "    p1 = (sumx/len(red),sumy/len(red))\n",
    "    sumx = 0\n",
    "    sumy = 0\n",
    "    for i,j in blue:\n",
    "        sumx += i\n",
    "        sumy+=j\n",
    "    p2 = (sumx/len(blue),sumy/len(blue))\n",
    "\n",
    "plt.scatter(redx,redy,c = 'r')\n",
    "plt.scatter(bluex,bluey,c = 'b')\n",
    "plt.scatter(p1[0],p1[1],marker='x',c = 'r')\n",
    "plt.scatter(p2[0],p2[1],marker='x',c = 'b')\n",
    "#plt.scatter(x,y)\n"
   ]
  },
  {
   "cell_type": "code",
   "execution_count": 21,
   "metadata": {},
   "outputs": [
    {
     "ename": "AttributeError",
     "evalue": "'list' object has no attribute 'mean'",
     "output_type": "error",
     "traceback": [
      "\u001b[1;31m---------------------------------------------------------------------------\u001b[0m",
      "\u001b[1;31mAttributeError\u001b[0m                            Traceback (most recent call last)",
      "\u001b[1;32m~\\AppData\\Local\\Temp/ipykernel_25336/2011802372.py\u001b[0m in \u001b[0;36m<module>\u001b[1;34m\u001b[0m\n\u001b[0;32m      1\u001b[0m \u001b[0mm\u001b[0m \u001b[1;33m=\u001b[0m \u001b[1;33m[\u001b[0m\u001b[1;36m1\u001b[0m\u001b[1;33m,\u001b[0m\u001b[1;36m2\u001b[0m\u001b[1;33m,\u001b[0m\u001b[1;36m3\u001b[0m\u001b[1;33m]\u001b[0m\u001b[1;33m\u001b[0m\u001b[1;33m\u001b[0m\u001b[0m\n\u001b[1;32m----> 2\u001b[1;33m \u001b[0mm\u001b[0m\u001b[1;33m.\u001b[0m\u001b[0mmean\u001b[0m\u001b[1;33m(\u001b[0m\u001b[1;33m)\u001b[0m\u001b[1;33m\u001b[0m\u001b[1;33m\u001b[0m\u001b[0m\n\u001b[0m",
      "\u001b[1;31mAttributeError\u001b[0m: 'list' object has no attribute 'mean'"
     ]
    }
   ],
   "source": [
    "m = [1,2,3]\n",
    "m.mean()"
   ]
  },
  {
   "cell_type": "code",
   "execution_count": 24,
   "metadata": {},
   "outputs": [
    {
     "data": {
      "text/plain": [
       "[]"
      ]
     },
     "execution_count": 24,
     "metadata": {},
     "output_type": "execute_result"
    }
   ],
   "source": [
    "m = [1,2,3]\n",
    "m.clear()\n",
    "m"
   ]
  },
  {
   "cell_type": "code",
   "execution_count": 58,
   "metadata": {},
   "outputs": [
    {
     "data": {
      "text/plain": [
       "(11,)"
      ]
     },
     "execution_count": 58,
     "metadata": {},
     "output_type": "execute_result"
    }
   ],
   "source": []
  },
  {
   "cell_type": "code",
   "execution_count": 23,
   "metadata": {},
   "outputs": [
    {
     "name": "stdout",
     "output_type": "stream",
     "text": [
      "-3.911781597254647\n"
     ]
    }
   ],
   "source": [
    "\n"
   ]
  }
 ],
 "metadata": {
  "interpreter": {
   "hash": "4b0dbb57a15f88fd7f7ac7491b872936fe892965957e1be9140f86922c2a1be8"
  },
  "kernelspec": {
   "display_name": "Python 3.8.8 64-bit ('base': conda)",
   "language": "python",
   "name": "python3"
  },
  "language_info": {
   "codemirror_mode": {
    "name": "ipython",
    "version": 3
   },
   "file_extension": ".py",
   "mimetype": "text/x-python",
   "name": "python",
   "nbconvert_exporter": "python",
   "pygments_lexer": "ipython3",
   "version": "3.8.12"
  },
  "orig_nbformat": 4
 },
 "nbformat": 4,
 "nbformat_minor": 2
}
