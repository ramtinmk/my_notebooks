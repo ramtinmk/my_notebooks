{
 "cells": [
  {
   "cell_type": "code",
   "execution_count": 135,
   "metadata": {},
   "outputs": [],
   "source": [
    "import numpy as np\n",
    "import pandas as pd\n",
    "import matplotlib.pyplot as plt\n",
    "import random\n",
    "from math import sqrt\n",
    "\n"
   ]
  },
  {
   "cell_type": "code",
   "execution_count": 144,
   "metadata": {},
   "outputs": [
    {
     "name": "stdout",
     "output_type": "stream",
     "text": [
      "[(-6.032675518764739, -2.4163171263215366), (3.1917135068995, 3.2401133107296545)]\n",
      "4\n"
     ]
    },
    {
     "data": {
      "text/plain": [
       "<matplotlib.collections.PathCollection at 0x22d70f79f60>"
      ]
     },
     "execution_count": 144,
     "metadata": {},
     "output_type": "execute_result"
    },
    {
     "data": {
      "image/png": "[encoded data removed]",
      "text/plain": [
       "<Figure size 432x288 with 1 Axes>"
      ]
     },
     "metadata": {
      "needs_background": "light"
     },
     "output_type": "display_data"
    }
   ],
   "source": [
    "#k-means algorithm with k=2\n",
    "\n",
    "\n",
    "x = np.random.uniform(-10,10,100)\n",
    "y = np.random.uniform(-10,10,100)\n",
    "\n",
    "\n",
    "p1 = (random.choice(x),random.choice(y))\n",
    "p2 = (random.choice(x),random.choice(y))\n",
    "c = [(random.choice(x),random.choice(y)) for i in range(2)]\n",
    "print(c)\n",
    "\n",
    "red = []\n",
    "\n",
    "redx = []\n",
    "redy = []\n",
    "blue = []\n",
    "bluex = []\n",
    "bluey = []\n",
    "\n",
    "def distance():\n",
    "    red.clear()\n",
    "    redx.clear()\n",
    "    redy.clear()\n",
    "    blue.clear()\n",
    "    bluey.clear()\n",
    "    bluex.clear()\n",
    "\n",
    "    for i,j in zip(x,y):\n",
    "        if (((i-p1[0])**2 + (j-p1[1])**2)) < ((i-p2[0])**2 + (j-p2[1])**2):\n",
    "            redx.append(i)\n",
    "            redy.append(j)\n",
    "            red.append((i,j))\n",
    "        else:\n",
    "            blue.append((i,j))\n",
    "            bluex.append(i)\n",
    "            bluey.append(j)\n",
    "\n",
    "counter = 0\n",
    "while True:\n",
    "    distance()\n",
    "    \n",
    "    sumx = 0\n",
    "    sumy = 0\n",
    "    for i,j in red:\n",
    "        sumx += i\n",
    "        sumy+=j\n",
    "    if (abs(sumx/len(red) - p1[0]),abs(sumy/len(red) - p1[1])) == (0,0):\n",
    "        break\n",
    "    \n",
    "\n",
    "    p1 = (sumx/len(red),sumy/len(red))\n",
    "    sumx = 0\n",
    "    sumy = 0\n",
    "    for i,j in blue:\n",
    "        sumx += i\n",
    "        sumy+=j\n",
    "    p2 = (sumx/len(blue),sumy/len(blue))\n",
    "    \n",
    "    counter+=1\n",
    "print(counter)\n",
    "plt.scatter(redx,redy,c = 'r')\n",
    "plt.scatter(bluex,bluey,c = 'b')\n",
    "plt.scatter(p1[0],p1[1],marker='x',c = 'r')\n",
    "plt.scatter(p2[0],p2[1],marker='x',c = 'b')\n",
    "#plt.scatter(x,y)\n"
   ]
  },
  {
   "cell_type": "code",
   "execution_count": null,
   "metadata": {},
   "outputs": [],
   "source": []
  },
  {
   "cell_type": "code",
   "execution_count": null,
   "metadata": {},
   "outputs": [],
   "source": []
  },
  {
   "cell_type": "code",
   "execution_count": null,
   "metadata": {},
   "outputs": [],
   "source": []
  },
  {
   "cell_type": "code",
   "execution_count": null,
   "metadata": {},
   "outputs": [],
   "source": [
    "\n"
   ]
  }
 ],
 "metadata": {
  "kernelspec": {
   "display_name": "Python 3.10.4 64-bit",
   "language": "python",
   "name": "python3"
  },
  "language_info": {
   "codemirror_mode": {
    "name": "ipython",
    "version": 3
   },
   "file_extension": ".py",
   "mimetype": "text/x-python",
   "name": "python",
   "nbconvert_exporter": "python",
   "pygments_lexer": "ipython3",
   "version": "3.10.4"
  },
  "orig_nbformat": 4,
  "vscode": {
   "interpreter": {
    "hash": "a9cff5a362bc38ef45d817ae74b1af54d6a076e3d773891282bce078b815ba34"
   }
  }
 },
 "nbformat": 4,
 "nbformat_minor": 2
}
